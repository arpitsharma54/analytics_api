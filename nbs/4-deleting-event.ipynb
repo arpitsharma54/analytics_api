{
 "cells": [
  {
   "cell_type": "code",
   "execution_count": 7,
   "id": "031db3cc",
   "metadata": {},
   "outputs": [
    {
     "name": "stdout",
     "output_type": "stream",
     "text": [
      "'http://localhost:8002/api/events/11'\n",
      "'{\"detail\":\"Event not found...\"}'\n"
     ]
    }
   ],
   "source": [
    "import requests\n",
    "from pprint import pprint\n",
    "\n",
    "path = '/api/events/11'\n",
    "base_url = 'http://localhost:8002'\n",
    "\n",
    "endpoint = f'{base_url}{path}'\n",
    "pprint(endpoint)\n",
    "\n",
    "response = requests.delete(endpoint)\n",
    "if response.ok:\n",
    "    pprint(response.text)\n",
    "else:\n",
    "    pprint(response.text)"
   ]
  }
 ],
 "metadata": {
  "kernelspec": {
   "display_name": "venv",
   "language": "python",
   "name": "python3"
  },
  "language_info": {
   "codemirror_mode": {
    "name": "ipython",
    "version": 3
   },
   "file_extension": ".py",
   "mimetype": "text/x-python",
   "name": "python",
   "nbconvert_exporter": "python",
   "pygments_lexer": "ipython3",
   "version": "3.13.5"
  }
 },
 "nbformat": 4,
 "nbformat_minor": 5
}
