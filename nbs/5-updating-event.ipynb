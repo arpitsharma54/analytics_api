{
 "cells": [
  {
   "cell_type": "code",
   "execution_count": 21,
   "id": "a4b60342",
   "metadata": {},
   "outputs": [
    {
     "name": "stdout",
     "output_type": "stream",
     "text": [
      "{'date': 'Wed, 17 Sep 2025 11:18:32 GMT', 'server': 'uvicorn', 'content-length': '157', 'content-type': 'application/json'}\n",
      "{'description': 'hello world, changed to latest', 'id': 4, 'updated_at': '2025-09-17T11:18:32.083159Z', 'page': '/test+', 'created_at': '2025-09-17T11:17:57.211370Z'}\n"
     ]
    }
   ],
   "source": [
    "import requests\n",
    "detail_path = '/api/events/4/'\n",
    "base_url = 'http://localhost:8002'\n",
    "detail_endpoint = f'{base_url}{detail_path}'\n",
    "\n",
    "response = requests.put(detail_endpoint, json={'description': 'hello world, changed to latest'})\n",
    "print(response.headers)\n",
    "if response.ok:\n",
    "    data=response.json()\n",
    "    print(data)\n",
    "else:\n",
    "    print(response.text)"
   ]
  }
 ],
 "metadata": {
  "kernelspec": {
   "display_name": "venv",
   "language": "python",
   "name": "python3"
  },
  "language_info": {
   "codemirror_mode": {
    "name": "ipython",
    "version": 3
   },
   "file_extension": ".py",
   "mimetype": "text/x-python",
   "name": "python",
   "nbconvert_exporter": "python",
   "pygments_lexer": "ipython3",
   "version": "3.13.5"
  }
 },
 "nbformat": 4,
 "nbformat_minor": 5
}
