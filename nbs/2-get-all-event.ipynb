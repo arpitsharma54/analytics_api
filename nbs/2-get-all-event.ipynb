{
 "cells": [
  {
   "cell_type": "code",
   "execution_count": 36,
   "id": "ec741f4a",
   "metadata": {},
   "outputs": [
    {
     "name": "stdout",
     "output_type": "stream",
     "text": [
      "Hello World\n"
     ]
    }
   ],
   "source": [
    "print('Hello World')"
   ]
  },
  {
   "cell_type": "code",
   "execution_count": 37,
   "id": "9033f616",
   "metadata": {},
   "outputs": [],
   "source": [
    "# pip install requests"
   ]
  },
  {
   "cell_type": "code",
   "execution_count": 38,
   "id": "1b0909df",
   "metadata": {},
   "outputs": [],
   "source": [
    "import requests\n",
    "from pprint import pprint"
   ]
  },
  {
   "cell_type": "code",
   "execution_count": 39,
   "id": "2df0ac22",
   "metadata": {},
   "outputs": [
    {
     "name": "stdout",
     "output_type": "stream",
     "text": [
      "http://localhost:8002/api/events\n"
     ]
    }
   ],
   "source": [
    "path = '/api/events'\n",
    "base_url = 'http://localhost:8002' #128.0.0.1:8002\n",
    "\n",
    "endpoint = f'{base_url}{path}'\n",
    "print(endpoint)"
   ]
  },
  {
   "cell_type": "code",
   "execution_count": null,
   "id": "84150bfe",
   "metadata": {},
   "outputs": [
    {
     "name": "stdout",
     "output_type": "stream",
     "text": [
      "[{'avg_duration': 2458.793103448276,\n",
      "  'bucket': '2025-09-18T09:15:00Z',\n",
      "  'count': 87,\n",
      "  'operating_system': 'Android',\n",
      "  'page': '/about',\n",
      "  'ua': ''},\n",
      " {'avg_duration': 2605.5196078431372,\n",
      "  'bucket': '2025-09-18T09:15:00Z',\n",
      "  'count': 102,\n",
      "  'operating_system': 'Android',\n",
      "  'page': '/contact',\n",
      "  'ua': ''},\n",
      " {'avg_duration': 2560.309523809524,\n",
      "  'bucket': '2025-09-18T09:15:00Z',\n",
      "  'count': 84,\n",
      "  'operating_system': 'Android',\n",
      "  'page': '/pricing',\n",
      "  'ua': ''},\n",
      " {'avg_duration': 2540.4117647058824,\n",
      "  'bucket': '2025-09-18T09:15:00Z',\n",
      "  'count': 221,\n",
      "  'operating_system': 'Linux',\n",
      "  'page': '/about',\n",
      "  'ua': ''},\n",
      " {'avg_duration': 2434.7056074766356,\n",
      "  'bucket': '2025-09-18T09:15:00Z',\n",
      "  'count': 214,\n",
      "  'operating_system': 'Linux',\n",
      "  'page': '/contact',\n",
      "  'ua': ''},\n",
      " {'avg_duration': 2647.8596491228072,\n",
      "  'bucket': '2025-09-18T09:15:00Z',\n",
      "  'count': 228,\n",
      "  'operating_system': 'Linux',\n",
      "  'page': '/pricing',\n",
      "  'ua': ''},\n",
      " {'avg_duration': 2430.796703296703,\n",
      "  'bucket': '2025-09-18T09:15:00Z',\n",
      "  'count': 182,\n",
      "  'operating_system': 'Macbook',\n",
      "  'page': '/about',\n",
      "  'ua': ''},\n",
      " {'avg_duration': 2461.3274853801167,\n",
      "  'bucket': '2025-09-18T09:15:00Z',\n",
      "  'count': 171,\n",
      "  'operating_system': 'Macbook',\n",
      "  'page': '/contact',\n",
      "  'ua': ''},\n",
      " {'avg_duration': 2491.612359550562,\n",
      "  'bucket': '2025-09-18T09:15:00Z',\n",
      "  'count': 178,\n",
      "  'operating_system': 'Macbook',\n",
      "  'page': '/pricing',\n",
      "  'ua': ''},\n",
      " {'avg_duration': 2534.103448275862,\n",
      "  'bucket': '2025-09-18T09:15:00Z',\n",
      "  'count': 58,\n",
      "  'operating_system': 'Other',\n",
      "  'page': '/about',\n",
      "  'ua': ''},\n",
      " {'avg_duration': 2744.3695652173915,\n",
      "  'bucket': '2025-09-18T09:15:00Z',\n",
      "  'count': 46,\n",
      "  'operating_system': 'Other',\n",
      "  'page': '/contact',\n",
      "  'ua': ''},\n",
      " {'avg_duration': 2164.9245283018868,\n",
      "  'bucket': '2025-09-18T09:15:00Z',\n",
      "  'count': 53,\n",
      "  'operating_system': 'Other',\n",
      "  'page': '/pricing',\n",
      "  'ua': ''},\n",
      " {'avg_duration': 2568.728494623656,\n",
      "  'bucket': '2025-09-18T09:15:00Z',\n",
      "  'count': 372,\n",
      "  'operating_system': 'Windows',\n",
      "  'page': '/about',\n",
      "  'ua': ''},\n",
      " {'avg_duration': 2469.433846153846,\n",
      "  'bucket': '2025-09-18T09:15:00Z',\n",
      "  'count': 325,\n",
      "  'operating_system': 'Windows',\n",
      "  'page': '/contact',\n",
      "  'ua': ''},\n",
      " {'avg_duration': 2412.017910447761,\n",
      "  'bucket': '2025-09-18T09:15:00Z',\n",
      "  'count': 335,\n",
      "  'operating_system': 'Windows',\n",
      "  'page': '/pricing',\n",
      "  'ua': ''},\n",
      " {'avg_duration': 2454.0409836065573,\n",
      "  'bucket': '2025-09-18T09:15:00Z',\n",
      "  'count': 122,\n",
      "  'operating_system': 'iOS',\n",
      "  'page': '/about',\n",
      "  'ua': ''},\n",
      " {'avg_duration': 2189.721153846154,\n",
      "  'bucket': '2025-09-18T09:15:00Z',\n",
      "  'count': 104,\n",
      "  'operating_system': 'iOS',\n",
      "  'page': '/contact',\n",
      "  'ua': ''},\n",
      " {'avg_duration': 2655.1271186440677,\n",
      "  'bucket': '2025-09-18T09:15:00Z',\n",
      "  'count': 118,\n",
      "  'operating_system': 'iOS',\n",
      "  'page': '/pricing',\n",
      "  'ua': ''}]\n"
     ]
    }
   ],
   "source": [
    "response = requests.get(endpoint, params={'duration': '15 minutes'})\n",
    "if response.ok:\n",
    "    data = response.json()\n",
    "    pprint(data)"
   ]
  }
 ],
 "metadata": {
  "kernelspec": {
   "display_name": "venv",
   "language": "python",
   "name": "python3"
  },
  "language_info": {
   "codemirror_mode": {
    "name": "ipython",
    "version": 3
   },
   "file_extension": ".py",
   "mimetype": "text/x-python",
   "name": "python",
   "nbconvert_exporter": "python",
   "pygments_lexer": "ipython3",
   "version": "3.13.5"
  }
 },
 "nbformat": 4,
 "nbformat_minor": 5
}
