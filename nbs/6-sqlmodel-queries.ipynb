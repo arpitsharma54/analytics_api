{
 "cells": [
  {
   "cell_type": "code",
   "execution_count": 21,
   "id": "a60e27d3",
   "metadata": {},
   "outputs": [],
   "source": [
    "import sys\n",
    "from pathlib import Path"
   ]
  },
  {
   "cell_type": "code",
   "execution_count": 22,
   "id": "09d5d9a8",
   "metadata": {},
   "outputs": [],
   "source": [
    "src_path = Path('../src').resolve()\n",
    "sys.path.append(str(src_path))"
   ]
  },
  {
   "cell_type": "code",
   "execution_count": null,
   "id": "31df74f2",
   "metadata": {},
   "outputs": [],
   "source": [
    "from sqlmodel import Session, select\n",
    "from api.db.session import engine\n",
    "from api.events.models import EventModel\n",
    "from timescaledb.hyperfunctions import time_bucket, time_bucket_gapfill\n",
    "from pprint import pprint"
   ]
  },
  {
   "cell_type": "code",
   "execution_count": 24,
   "id": "3ad73203",
   "metadata": {},
   "outputs": [
    {
     "name": "stdout",
     "output_type": "stream",
     "text": [
      "[EventModel(time=datetime.datetime(2025, 9, 17, 11, 58, 4, 5772, tzinfo=datetime.timezone.utc), page='/contact', updated_at=datetime.datetime(2025, 9, 17, 11, 58, 4, 5778, tzinfo=datetime.timezone.utc), id=10000, description='My Description'),\n",
      " EventModel(time=datetime.datetime(2025, 9, 17, 11, 58, 3, 988663, tzinfo=datetime.timezone.utc), page='/pages', updated_at=datetime.datetime(2025, 9, 17, 11, 58, 3, 988669, tzinfo=datetime.timezone.utc), id=9999, description='My Description'),\n",
      " EventModel(time=datetime.datetime(2025, 9, 17, 11, 58, 3, 972258, tzinfo=datetime.timezone.utc), page='pricing', updated_at=datetime.datetime(2025, 9, 17, 11, 58, 3, 972264, tzinfo=datetime.timezone.utc), id=9998, description='My Description'),\n",
      " EventModel(time=datetime.datetime(2025, 9, 17, 11, 58, 3, 955262, tzinfo=datetime.timezone.utc), page='/about', updated_at=datetime.datetime(2025, 9, 17, 11, 58, 3, 955268, tzinfo=datetime.timezone.utc), id=9997, description='My Description'),\n",
      " EventModel(time=datetime.datetime(2025, 9, 17, 11, 58, 3, 937847, tzinfo=datetime.timezone.utc), page='/about', updated_at=datetime.datetime(2025, 9, 17, 11, 58, 3, 937853, tzinfo=datetime.timezone.utc), id=9996, description='My Description'),\n",
      " EventModel(time=datetime.datetime(2025, 9, 17, 11, 58, 3, 921774, tzinfo=datetime.timezone.utc), page='/about', updated_at=datetime.datetime(2025, 9, 17, 11, 58, 3, 921780, tzinfo=datetime.timezone.utc), id=9995, description='My Description'),\n",
      " EventModel(time=datetime.datetime(2025, 9, 17, 11, 58, 3, 905847, tzinfo=datetime.timezone.utc), page='pricing', updated_at=datetime.datetime(2025, 9, 17, 11, 58, 3, 905853, tzinfo=datetime.timezone.utc), id=9994, description='My Description'),\n",
      " EventModel(time=datetime.datetime(2025, 9, 17, 11, 58, 3, 887142, tzinfo=datetime.timezone.utc), page='/contact', updated_at=datetime.datetime(2025, 9, 17, 11, 58, 3, 887190, tzinfo=datetime.timezone.utc), id=9993, description='My Description'),\n",
      " EventModel(time=datetime.datetime(2025, 9, 17, 11, 58, 3, 867546, tzinfo=datetime.timezone.utc), page='/about', updated_at=datetime.datetime(2025, 9, 17, 11, 58, 3, 867558, tzinfo=datetime.timezone.utc), id=9992, description='My Description'),\n",
      " EventModel(time=datetime.datetime(2025, 9, 17, 11, 58, 3, 846739, tzinfo=datetime.timezone.utc), page='/pages', updated_at=datetime.datetime(2025, 9, 17, 11, 58, 3, 846747, tzinfo=datetime.timezone.utc), id=9991, description='My Description')]\n"
     ]
    }
   ],
   "source": [
    "with Session(engine) as session:\n",
    "    query = select(EventModel).order_by(EventModel.updated_at.desc()).limit(10)\n",
    "    compiled_query = query.compile(compile_kwargs={\"literal_binds\":True})\n",
    "    # print(compiled_query)\n",
    "    # print()\n",
    "    # print(str(query))\n",
    "    results = session.exec(query).fetchall()\n",
    "    pprint(results)\n",
    "    # result = session.exec(query).all()\n",
    "    # print(result)"
   ]
  },
  {
   "cell_type": "code",
   "execution_count": 66,
   "id": "9a149493",
   "metadata": {},
   "outputs": [
    {
     "name": "stdout",
     "output_type": "stream",
     "text": [
      "SELECT time_bucket('1 minute'::interval, eventmodel.time) AS time_bucket_1, eventmodel.page, count(*) AS count_1 \n",
      "FROM eventmodel \n",
      "WHERE eventmodel.time > '2025-09-18 05:20:40.954374+00:00' AND eventmodel.time < '2025-09-18 06:16:02.354386+00:00' AND eventmodel.page IN ('/about', '/contact', '/pages', 'pricing') GROUP BY time_bucket('1 minute'::interval, eventmodel.time), eventmodel.page ORDER BY time_bucket('1 minute'::interval, eventmodel.time), eventmodel.page\n"
     ]
    }
   ],
   "source": [
    "from sqlalchemy import func\n",
    "from datetime import datetime, timedelta, timezone\n",
    "\n",
    "with Session(engine) as session:\n",
    "    bucket = time_bucket(\"1 minute\", EventModel.time)\n",
    "    pages = ['/about', '/contact', '/pages', 'pricing']\n",
    "    start = datetime.now(timezone.utc) - timedelta(hours=1)\n",
    "    finish = datetime.now(timezone.utc) - timedelta(seconds=278, milliseconds=600)\n",
    "    query = (\n",
    "        select(\n",
    "            bucket,\n",
    "            EventModel.page,\n",
    "            func.count()\n",
    "        ).where(\n",
    "            EventModel.time > start,\n",
    "            EventModel.time < finish,\n",
    "            EventModel.page.in_(pages)\n",
    "        ).group_by(\n",
    "            bucket,\n",
    "            EventModel.page,\n",
    "        ).order_by(\n",
    "            bucket,\n",
    "            EventModel.page\n",
    "        )\n",
    "        )\n",
    "    compiled_query = query.compile(compile_kwargs={\"literal_binds\":True})\n",
    "    results = session.exec(query).fetchall()\n",
    "    print(compiled_query)\n",
    "    # pprint(results)\n",
    "    # result = session.exec(query).all()\n",
    "    # print(result)"
   ]
  }
 ],
 "metadata": {
  "kernelspec": {
   "display_name": "venv",
   "language": "python",
   "name": "python3"
  },
  "language_info": {
   "codemirror_mode": {
    "name": "ipython",
    "version": 3
   },
   "file_extension": ".py",
   "mimetype": "text/x-python",
   "name": "python",
   "nbconvert_exporter": "python",
   "pygments_lexer": "ipython3",
   "version": "3.13.5"
  }
 },
 "nbformat": 4,
 "nbformat_minor": 5
}
